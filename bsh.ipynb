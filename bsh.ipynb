{
 "cells": [
  {
   "cell_type": "markdown",
   "metadata": {
    "deletable": true,
    "editable": true
   },
   "source": [
    "# Arbeiten mit Geo Vektordaten"
   ]
  },
  {
   "cell_type": "markdown",
   "metadata": {
    "deletable": true,
    "editable": true,
    "slideshow": {
     "slide_type": "-"
    }
   },
   "source": [
    "## Shapely\n",
    "[Shapely](https://github.com/Toblerity/Shapely) kann zur Manipulation und Analyse von geometriesche Vektordaten verwendet werden. Shapley basiert auf C++-Biblothek [GEOS](https://trac.osgeo.org/geos/), der Standardbibiothek für das Arbeiten mit geometrischen Vektordaten. So wird GEOS beispielsweise von PostGIS verwendet, welche die Räumliche Erweiterung für die PostgreSQL-Datenbank ist. Shapely, bietet unteranderem Funktionalitäten wie [buffer](http://toblerity.org/shapely/manual.html?#object.buffer),[union](http://toblerity.org/shapely/manual.html?#object.union), [intersection](http://toblerity.org/shapely/manual.html?#object.intersection), [centroid](http://toblerity.org/shapely/manual.html?#object.centroid),[convex hull](http://toblerity.org/shapely/manual.html?#object.convex_hull) und einiges mehr an."
   ]
  },
  {
   "cell_type": "code",
   "execution_count": 36,
   "metadata": {
    "collapsed": false,
    "deletable": true,
    "editable": true
   },
   "outputs": [
    {
     "data": {
      "image/svg+xml": [
       "<svg xmlns=\"http://www.w3.org/2000/svg\" xmlns:xlink=\"http://www.w3.org/1999/xlink\" width=\"100.0\" height=\"100.0\" viewBox=\"-10.8 -10.8 21.6 21.6\" preserveAspectRatio=\"xMinYMin meet\"><g transform=\"matrix(1,0,0,-1,0,0.0)\"><path fill-rule=\"evenodd\" fill=\"#66cc99\" stroke=\"#555555\" stroke-width=\"0.43200000000000005\" opacity=\"0.6\" d=\"M 10.0,0.0 L 9.95184726672197,-0.980171403295605 L 9.807852804032306,-1.9509032201612808 L 9.56940335732209,-2.902846772544621 L 9.23879532511287,-3.826834323650894 L 8.819212643483553,-4.713967368259972 L 8.314696123025456,-5.555702330196017 L 7.730104533627374,-6.343932841636449 L 7.071067811865481,-7.071067811865469 L 6.343932841636462,-7.7301045336273635 L 5.555702330196031,-8.314696123025447 L 4.713967368259986,-8.819212643483546 L 3.8268343236509086,-9.238795325112862 L 2.902846772544636,-9.569403357322084 L 1.9509032201612964,-9.807852804032303 L 0.9801714032956209,-9.951847266721966 L 1.6155445744325867e-14,-10.0 L -0.9801714032955888,-9.95184726672197 L -1.9509032201612646,-9.807852804032308 L -2.902846772544605,-9.569403357322093 L -3.8268343236508784,-9.238795325112875 L -4.713967368259957,-8.81921264348356 L -5.555702330196005,-8.314696123025463 L -6.343932841636439,-7.730104533627382 L -7.071067811865462,-7.071067811865488 L -7.730104533627359,-6.343932841636468 L -8.314696123025444,-5.555702330196036 L -8.819212643483542,-4.71396736825999 L -9.238795325112862,-3.8268343236509113 L -9.569403357322084,-2.9028467725446365 L -9.807852804032303,-1.9509032201612948 L -9.951847266721968,-0.9801714032956171 L -10.0,-1.0106430996148605e-14 L -9.95184726672197,0.980171403295597 L -9.807852804032306,1.950903220161275 L -9.569403357322091,2.902846772544617 L -9.23879532511287,3.826834323650892 L -8.819212643483553,4.713967368259972 L -8.314696123025454,5.55570233019602 L -7.730104533627371,6.343932841636453 L -7.071067811865477,7.071067811865475 L -6.343932841636459,7.730104533627367 L -5.55570233019603,8.314696123025447 L -4.713967368259987,8.819212643483546 L -3.8268343236509117,9.238795325112862 L -2.902846772544641,9.569403357322084 L -1.9509032201613041,9.8078528040323 L -0.980171403295631,9.951847266721966 L -2.848232278972479e-14,10.0 L 0.9801714032955743,9.951847266721972 L 1.9509032201612482,9.807852804032311 L 2.902846772544587,9.569403357322098 L 3.826834323650859,9.238795325112884 L 4.713967368259937,8.81921264348357 L 5.555702330195982,8.31469612302548 L 6.3439328416364145,7.730104533627403 L 7.0710678118654355,7.071067811865515 L 7.730104533627332,6.343932841636501 L 8.314696123025417,5.555702330196074 L 8.81921264348352,4.713967368260034 L 9.238795325112841,3.826834323650962 L 9.569403357322066,2.9028467725446925 L 9.80785280403229,1.950903220161357 L 9.95184726672196,0.9801714032956848 L 10.0,8.238535137130597e-14 L 10.0,0.0 z\" /></g></svg>"
      ],
      "text/plain": [
       "<shapely.geometry.polygon.Polygon at 0x7f383ce98c88>"
      ]
     },
     "execution_count": 36,
     "metadata": {},
     "output_type": "execute_result"
    }
   ],
   "source": [
    "from shapely.geometry import Point\n",
    "Point(0.0, 0.0).buffer(10.0)"
   ]
  },
  {
   "cell_type": "markdown",
   "metadata": {
    "deletable": true,
    "editable": true
   },
   "source": [
    "- Geometrien können im juypter notebook direkt visualisiert werden.\n",
    "- Geometrien sind farbkodiert.\n",
    "  - Grün: Valide Geometrien\n",
    "  - Rot: Invalide Geometrien\n"
   ]
  },
  {
   "cell_type": "markdown",
   "metadata": {
    "deletable": true,
    "editable": true
   },
   "source": [
    "Beispiel: invalid self-touching LinearRing"
   ]
  },
  {
   "cell_type": "code",
   "execution_count": 37,
   "metadata": {
    "collapsed": false,
    "deletable": true,
    "editable": true
   },
   "outputs": [
    {
     "name": "stderr",
     "output_type": "stream",
     "text": [
      "Ring Self-intersection at or near point 1 1\n"
     ]
    },
    {
     "data": {
      "image/svg+xml": [
       "<svg xmlns=\"http://www.w3.org/2000/svg\" xmlns:xlink=\"http://www.w3.org/1999/xlink\" width=\"100.0\" height=\"100.0\" viewBox=\"-0.08 -0.08 2.16 2.16\" preserveAspectRatio=\"xMinYMin meet\"><g transform=\"matrix(1,0,0,-1,0,2.0)\"><polyline fill=\"none\" stroke=\"#ff3333\" stroke-width=\"0.0432\" points=\"0.0,0.0 0.0,2.0 1.0,1.0 2.0,2.0 2.0,0.0 1.0,1.0 0.0,0.0\" opacity=\"0.8\" /></g></svg>"
      ],
      "text/plain": [
       "<shapely.geometry.polygon.LinearRing at 0x7f383ce30240>"
      ]
     },
     "execution_count": 37,
     "metadata": {},
     "output_type": "execute_result"
    }
   ],
   "source": [
    "from shapely.geometry.polygon import LinearRing\n",
    "LinearRing([(0, 0), (0, 2), (1, 1), (2, 2), (2, 0), (1, 1), (0, 0)])"
   ]
  },
  {
   "cell_type": "code",
   "execution_count": 38,
   "metadata": {
    "collapsed": false,
    "deletable": true,
    "editable": true,
    "scrolled": true
   },
   "outputs": [
    {
     "data": {
      "text/plain": [
       "313.6548490545939"
      ]
     },
     "execution_count": 38,
     "metadata": {},
     "output_type": "execute_result"
    }
   ],
   "source": [
    "Point(0.0, 0.0).buffer(10.0).area"
   ]
  },
  {
   "cell_type": "code",
   "execution_count": 39,
   "metadata": {
    "collapsed": false,
    "deletable": true,
    "editable": true
   },
   "outputs": [
    {
     "data": {
      "text/plain": [
       "'POINT (0.0000000000000000 0.0000000000000000)'"
      ]
     },
     "execution_count": 39,
     "metadata": {},
     "output_type": "execute_result"
    }
   ],
   "source": [
    "from shapely.wkt import dumps, loads\n",
    "dumps(loads('POINT (0 0)'))"
   ]
  },
  {
   "cell_type": "code",
   "execution_count": 40,
   "metadata": {
    "collapsed": false,
    "deletable": true,
    "editable": true
   },
   "outputs": [
    {
     "data": {
      "image/svg+xml": [
       "<svg xmlns=\"http://www.w3.org/2000/svg\" xmlns:xlink=\"http://www.w3.org/1999/xlink\" width=\"100.0\" height=\"100.0\" viewBox=\"-1.0 -1.0 2.0 2.0\" preserveAspectRatio=\"xMinYMin meet\"><g transform=\"matrix(1,0,0,-1,0,0.0)\"><circle cx=\"0.0\" cy=\"0.0\" r=\"0.06\" stroke=\"#555555\" stroke-width=\"0.02\" fill=\"#66cc99\" opacity=\"0.6\" /></g></svg>"
      ],
      "text/plain": [
       "<shapely.geometry.point.Point at 0x7f383ce30780>"
      ]
     },
     "execution_count": 40,
     "metadata": {},
     "output_type": "execute_result"
    }
   ],
   "source": [
    "import json\n",
    "from shapely.geometry import mapping, shape\n",
    "s=shape(json.loads('{\"type\": \"Point\", \"coordinates\": [0.0, 0.0]}'))\n",
    "s"
   ]
  },
  {
   "cell_type": "code",
   "execution_count": 41,
   "metadata": {
    "collapsed": false,
    "deletable": true,
    "editable": true
   },
   "outputs": [
    {
     "name": "stdout",
     "output_type": "stream",
     "text": [
      "{\"type\": \"Point\", \"coordinates\": [0.0, 0.0]}\n"
     ]
    }
   ],
   "source": [
    "print(json.dumps(mapping(s)))"
   ]
  },
  {
   "cell_type": "markdown",
   "metadata": {
    "deletable": true,
    "editable": true
   },
   "source": [
    "### Bespiel: Differenzbildung zweier Geometrien mittels [difference](http://toblerity.org/shapely/manual.html#object.difference)"
   ]
  },
  {
   "cell_type": "code",
   "execution_count": 42,
   "metadata": {
    "collapsed": false,
    "deletable": true,
    "editable": true
   },
   "outputs": [
    {
     "data": {
      "image/svg+xml": [
       "<svg xmlns=\"http://www.w3.org/2000/svg\" xmlns:xlink=\"http://www.w3.org/1999/xlink\" width=\"100.0\" height=\"100.0\" viewBox=\"-0.62 -0.62 2.24 3.24\" preserveAspectRatio=\"xMinYMin meet\"><g transform=\"matrix(1,0,0,-1,0,2.0)\"><path fill-rule=\"evenodd\" fill=\"#66cc99\" stroke=\"#555555\" stroke-width=\"0.06480000000000001\" opacity=\"0.6\" d=\"M 1.5,-0.41230592043843134 L 1.4354270158816953,-0.4354105035983127 L 1.2926354830241944,-0.4711779206048452 L 1.147025710494343,-0.49277709000829506 L 1.0000000000000024,-0.5 L 0.8529742895056617,-0.4927770900082955 L 0.7073645169758103,-0.4711779206048461 L 0.5645729841183093,-0.435410503598314 L 0.42597485145236824,-0.38581929876693133 L 0.29290489476100645,-0.3228818965225342 L 0.16664465047059918,-0.24720441845381957 L 0.0484100737545341,-0.15951568004410732 L -0.060660171779819416,-0.06066017177982319 L -0.15951568004410377,0.04841007375452977 L -0.24720441845381647,0.1666446504705945 L -0.3228818965225315,0.29290489476100146 L -0.38581929876692933,0.42597485145236336 L -0.4354105035983127,0.5645729841183045 L -0.4711779206048452,0.7073645169758058 L -0.4927770900082953,0.8529742895056575 L -0.5,0.9999999999999984 L -0.4927770900082953,1.1470257104943395 L -0.4711779206048461,1.2926354830241913 L -0.43541050359831357,1.4354270158816926 L -0.38581929876693044,1.574025148547634 L -0.32288189652253285,1.707095105238996 L -0.24720441845381824,1.8333553495294028 L -0.15951568004410577,1.951589926245468 L -0.060660171779821415,2.060660171779821 L 0.0484100737545311,2.159515680044105 L 0.16664465047059562,2.2472044184538174 L 0.292904894761002,2.3228818965225315 L 0.42597485145236325,2.385819298766929 L 0.5645729841183038,2.4354105035983125 L 0.7073645169758044,2.4711779206048448 L 0.8529742895056553,2.492777090008295 L 0.9999999999999958,2.5 L 1.1470257104943362,2.4927770900082957 L 1.292635483024187,2.4711779206048465 L 1.435427015881688,2.435410503598315 L 1.5000000000000002,2.412305920438431 L 1.4259748514523634,2.385819298766929 L 1.292904894761002,2.3228818965225315 L 1.1666446504705956,2.2472044184538174 L 1.048410073754531,2.159515680044105 L 0.9393398282201786,2.060660171779821 L 0.8404843199558942,1.951589926245468 L 0.7527955815461818,1.8333553495294028 L 0.6771181034774671,1.707095105238996 L 0.6141807012330696,1.574025148547634 L 0.5645894964016864,1.4354270158816926 L 0.5288220793951539,1.2926354830241913 L 0.5072229099917047,1.1470257104943395 L 0.5,0.9999999999999984 L 0.5072229099917047,0.8529742895056575 L 0.5288220793951548,0.7073645169758058 L 0.5645894964016873,0.5645729841183045 L 0.6141807012330707,0.42597485145236336 L 0.6771181034774685,0.29290489476100146 L 0.7527955815461835,0.1666446504705945 L 0.8404843199558962,0.04841007375452977 L 0.9393398282201806,-0.06066017177982319 L 1.048410073754534,-0.15951568004410732 L 1.1666446504705992,-0.24720441845381957 L 1.2929048947610065,-0.3228818965225342 L 1.4259748514523682,-0.38581929876693133 L 1.5,-0.41230592043843134 z\" /></g></svg>"
      ],
      "text/plain": [
       "<shapely.geometry.polygon.Polygon at 0x7f383ed52c50>"
      ]
     },
     "execution_count": 42,
     "metadata": {},
     "output_type": "execute_result"
    }
   ],
   "source": [
    "a = Point(1, 1).buffer(1.5)\n",
    "b = Point(2, 1).buffer(1.5)\n",
    "a.difference(b)"
   ]
  },
  {
   "cell_type": "markdown",
   "metadata": {
    "deletable": true,
    "editable": true
   },
   "source": [
    "## Interaktivität im juypter notebook"
   ]
  },
  {
   "cell_type": "code",
   "execution_count": 43,
   "metadata": {
    "collapsed": false,
    "deletable": true,
    "editable": true
   },
   "outputs": [
    {
     "data": {
      "application/vnd.jupyter.widget-view+json": {
       "model_id": "0d7256bd4b0b48fcb0c78b5aea86a4f6"
      }
     },
     "metadata": {},
     "output_type": "display_data"
    }
   ],
   "source": [
    "from __future__ import print_function\n",
    "from ipywidgets import interact, interactive, fixed\n",
    "import ipywidgets as widgets\n",
    "from shapely.geometry import shape\n",
    "\n",
    "def bufferme(radius):\n",
    "    return shape(Point(0.0, 0.0)).buffer(radius)\n",
    "\n",
    "interactive(bufferme, radius=1000)"
   ]
  },
  {
   "cell_type": "markdown",
   "metadata": {
    "deletable": true,
    "editable": true
   },
   "source": [
    "## Fiona\n",
    "[Fiona](https://github.com/Toblerity/Fiona) ist eine Python Biblothek für das Lesen und Schreiben von Vektor Geodaten Formaten. Dafür wird die C Biblothek OGR aus [http://www.gdal.org/](http://www.gdal.org/) verwendet. OGR unterstützt [sehr viele Datenformate](http://www.gdal.org/ogr_formats.html) zur Konvertierung von Geodaten. So wird OGR beispielsweise von Mapnik verwendet, womit beispielsweise die OpenStreetMap-Karten gerendert werden.\n",
    "\n",
    "Warum GEOS und OGR nicht direkt verwenden? GEOS, bietet keine direkte Python-Anbindung an. Um GEOS zu verwenden muss C++-Code geschrieben werden. Die GEOS-Community empfiehlt die Verwednung von Shapely in Zusammenhang mit Python.\n",
    "OGR bietet eine Python-Anbindung, allerdings verhält diese sich nicht wirklich Python-mäßig, und ist teilweise fehleranfällig.\n",
    "\n",
    "## Empfehlung\n",
    "Fiona für die Ein- und Ausgabe und Shapley für die Manipulation und Analyse von Geodaten verwenden"
   ]
  },
  {
   "cell_type": "markdown",
   "metadata": {
    "deletable": true,
    "editable": true
   },
   "source": [
    "## Beliebige Datenformate in Geodaten-Formate verwandeln\n",
    "Am Beispiel einer einfachen [CSV-Datei](https://de.wikipedia.org/wiki/CSV_%28Dateiformat%29) soll gezeigt werden, wie diese in eine Shape-Datei konvertiert werden kann."
   ]
  },
  {
   "cell_type": "markdown",
   "metadata": {
    "deletable": true,
    "editable": true
   },
   "source": [
    "```\n",
    "name,lat,lon\n",
    "Hamburg,53.565278, 10.001389\n",
    "Rostock,54.083333, 12.133333\n",
    "Osnabrück,52.283333, 8.05\n",
    "```"
   ]
  },
  {
   "cell_type": "markdown",
   "metadata": {
    "deletable": true,
    "editable": true
   },
   "source": [
    "Hier zu wird der [Python CSV reader](https://docs.python.org/3/library/csv.html) verwendet. "
   ]
  },
  {
   "cell_type": "code",
   "execution_count": 44,
   "metadata": {
    "collapsed": false,
    "deletable": true,
    "editable": true
   },
   "outputs": [
    {
     "name": "stdout",
     "output_type": "stream",
     "text": [
      "Hamburg 53.565278  10.001389\n",
      "Rostock 54.083333  12.133333\n",
      "Osnabrück 52.283333  8.05\n"
     ]
    }
   ],
   "source": [
    "import csv\n",
    "with open('staedte.csv') as csvfile:\n",
    "    reader = csv.DictReader(csvfile)\n",
    "    for row in reader:\n",
    "        print(row['name'],row['lat'],row['lon'])"
   ]
  },
  {
   "cell_type": "markdown",
   "metadata": {
    "deletable": true,
    "editable": true
   },
   "source": [
    "Als nächstes müssen aus den Koordinaten Punkte gemacht werden. Hierzu wird die [Shapely Präsentation eines Punktes](http://toblerity.org/shapely/manual.html#points) verwendet. Welche mittels ```shapely.geometry import Point``` importiert wird. Der Punkt bekommt die Koordinaten in der Reihenfolge ```longitude```,```latitude``` übergeben! Da CSV implizit Text und keine Zahlen repräsentiert, wird die Python [float()](https://docs.python.org/3/library/functions.html?#float) Funktion zur Konvertierung verwendet."
   ]
  },
  {
   "cell_type": "code",
   "execution_count": 45,
   "metadata": {
    "collapsed": false,
    "deletable": true,
    "editable": true
   },
   "outputs": [],
   "source": [
    "import csv\n",
    "from shapely.geometry import Point, MultiPoint\n",
    "with open('staedte.csv') as csvfile:\n",
    "    reader = csv.DictReader(csvfile)\n",
    "    for row in reader:\n",
    "        point=Point(float(row['lon']), float(row['lat']))"
   ]
  },
  {
   "cell_type": "markdown",
   "metadata": {
    "deletable": true,
    "editable": true
   },
   "source": [
    "### Die Inhalte der CSV-Datei als ESRI Shapefile mittels Fiona speichern."
   ]
  },
  {
   "cell_type": "code",
   "execution_count": 46,
   "metadata": {
    "collapsed": false,
    "deletable": true,
    "editable": true
   },
   "outputs": [],
   "source": [
    "import csv\n",
    "from shapely.geometry import Point, mapping\n",
    "from fiona import collection\n",
    "\n",
    "schema = { 'geometry': 'Point', 'properties': { 'name': 'str' } }\n",
    "with collection(\n",
    "    \"staedte.shp\", \"w\", \"ESRI Shapefile\", schema) as output:\n",
    "    with open('staedte.csv') as f:\n",
    "        reader = csv.DictReader(f)\n",
    "        for row in reader:\n",
    "            point = Point(float(row['lon']), float(row['lat']))\n",
    "            output.write({\n",
    "                'properties': {\n",
    "                    'name': row['name']\n",
    "                },\n",
    "                'geometry': mapping(point)\n",
    "            })"
   ]
  },
  {
   "cell_type": "markdown",
   "metadata": {
    "collapsed": true,
    "deletable": true,
    "editable": true
   },
   "source": [
    "### Einlesen des erstellten ESRI Shapefiles mittels fiona."
   ]
  },
  {
   "cell_type": "code",
   "execution_count": 47,
   "metadata": {
    "collapsed": false,
    "deletable": true,
    "editable": true
   },
   "outputs": [],
   "source": [
    "import fiona\n",
    "c = fiona.open('staedte.shp', 'r')"
   ]
  },
  {
   "cell_type": "markdown",
   "metadata": {
    "deletable": true,
    "editable": true
   },
   "source": [
    "### Collection indexing\n",
    "Auf Features einer Collection können über einen Index zugegriffen werden."
   ]
  },
  {
   "cell_type": "code",
   "execution_count": 48,
   "metadata": {
    "collapsed": false,
    "deletable": true,
    "editable": true,
    "scrolled": true
   },
   "outputs": [
    {
     "name": "stdout",
     "output_type": "stream",
     "text": [
      "{'geometry': {'coordinates': (12.133333, 54.083333), 'type': 'Point'},\n",
      " 'id': '1',\n",
      " 'properties': OrderedDict([('name', 'Rostock')]),\n",
      " 'type': 'Feature'}\n"
     ]
    }
   ],
   "source": [
    "import pprint\n",
    "pprint.pprint(c[1])"
   ]
  },
  {
   "cell_type": "markdown",
   "metadata": {
    "deletable": true,
    "editable": true
   },
   "source": [
    "### Visualisierung der Punkte aus dem ESRI Shapefile."
   ]
  },
  {
   "cell_type": "code",
   "execution_count": 49,
   "metadata": {
    "collapsed": false,
    "deletable": true,
    "editable": true,
    "scrolled": true
   },
   "outputs": [
    {
     "data": {
      "image/svg+xml": [
       "<svg xmlns=\"http://www.w3.org/2000/svg\" xmlns:xlink=\"http://www.w3.org/1999/xlink\" width=\"100.0\" height=\"100.0\" viewBox=\"7.886666680000001 52.11999968 4.409999639999999 2.1266666400000034\" preserveAspectRatio=\"xMinYMin meet\"><g transform=\"matrix(1,0,0,-1,0,106.36666600000001)\"><g><circle cx=\"10.001389\" cy=\"53.565278\" r=\"0.13229998919999997\" stroke=\"#555555\" stroke-width=\"0.04409999639999999\" fill=\"#66cc99\" opacity=\"0.6\" /><circle cx=\"12.133333\" cy=\"54.083333\" r=\"0.13229998919999997\" stroke=\"#555555\" stroke-width=\"0.04409999639999999\" fill=\"#66cc99\" opacity=\"0.6\" /><circle cx=\"8.05\" cy=\"52.283333\" r=\"0.13229998919999997\" stroke=\"#555555\" stroke-width=\"0.04409999639999999\" fill=\"#66cc99\" opacity=\"0.6\" /></g></g></svg>"
      ],
      "text/plain": [
       "<shapely.geometry.multipoint.MultiPoint at 0x7f383c2a31d0>"
      ]
     },
     "execution_count": 49,
     "metadata": {},
     "output_type": "execute_result"
    }
   ],
   "source": [
    "from shapely.geometry import mapping, shape\n",
    "points=None\n",
    "for feature in c:\n",
    "    if not points:\n",
    "        points = shape(feature['geometry'])\n",
    "    points= points.union(shape(feature['geometry']))\n",
    "points"
   ]
  },
  {
   "cell_type": "markdown",
   "metadata": {
    "deletable": true,
    "editable": true
   },
   "source": [
    "# Einführung in das Arbeiten mit Rasterdaten mittels [rasterio](https://github.com/mapbox/rasterio)"
   ]
  },
  {
   "cell_type": "markdown",
   "metadata": {},
   "source": [
    "## Überblick über den Datensatz verschaffen"
   ]
  },
  {
   "cell_type": "code",
   "execution_count": 50,
   "metadata": {
    "collapsed": false,
    "deletable": true,
    "editable": true
   },
   "outputs": [],
   "source": [
    "import rasterio\n",
    "from rasterio.plot import show"
   ]
  },
  {
   "cell_type": "code",
   "execution_count": 51,
   "metadata": {
    "collapsed": false,
    "deletable": true,
    "editable": true
   },
   "outputs": [
    {
     "data": {
      "image/png": "[encoded data removed]",
      "text/plain": [
       "<matplotlib.figure.Figure at 0x7f383ed52080>"
      ]
     },
     "metadata": {},
     "output_type": "display_data"
    }
   ],
   "source": [
    "with rasterio.open(\"/tmp/bsh/Meereis/SatTiffs/ek_edit160106_Sentinel2_vom06012016.tif\") as src:\n",
    "    show((src))"
   ]
  },
  {
   "cell_type": "code",
   "execution_count": 52,
   "metadata": {
    "collapsed": false
   },
   "outputs": [
    {
     "data": {
      "text/plain": [
       "{'affine': Affine(46.17483051195663, 0.0, 1305381.878773258,\n",
       "       0.0, -46.18089141339655, 7286699.396508208),\n",
       " 'count': 3,\n",
       " 'crs': CRS({'y_0': 0, 'proj': 'merc', 'lon_0': 0, 'datum': 'WGS84', 'k': 1, 'x_0': 0, 'units': 'm', 'no_defs': True}),\n",
       " 'driver': 'GTiff',\n",
       " 'dtype': 'uint8',\n",
       " 'height': 3162,\n",
       " 'nodata': None,\n",
       " 'transform': (1305381.878773258,\n",
       "  46.17483051195663,\n",
       "  0.0,\n",
       "  7286699.396508208,\n",
       "  0.0,\n",
       "  -46.18089141339655),\n",
       " 'width': 4653}"
      ]
     },
     "execution_count": 52,
     "metadata": {},
     "output_type": "execute_result"
    }
   ],
   "source": [
    "src.meta"
   ]
  },
  {
   "cell_type": "code",
   "execution_count": 53,
   "metadata": {
    "collapsed": false
   },
   "outputs": [
    {
     "data": {
      "text/plain": [
       "CRS({'y_0': 0, 'proj': 'merc', 'lon_0': 0, 'datum': 'WGS84', 'k': 1, 'x_0': 0, 'units': 'm', 'no_defs': True})"
      ]
     },
     "execution_count": 53,
     "metadata": {},
     "output_type": "execute_result"
    }
   ],
   "source": [
    "src.crs"
   ]
  },
  {
   "cell_type": "markdown",
   "metadata": {},
   "source": [
    "## Layout des Datensatzes"
   ]
  },
  {
   "cell_type": "markdown",
   "metadata": {},
   "source": [
    "Der Datensatz hat 3162 Zeilen und 4653 Spalten"
   ]
  },
  {
   "cell_type": "code",
   "execution_count": 54,
   "metadata": {
    "collapsed": false
   },
   "outputs": [
    {
     "data": {
      "text/plain": [
       "(3162, 4653)"
      ]
     },
     "execution_count": 54,
     "metadata": {},
     "output_type": "execute_result"
    }
   ],
   "source": [
    "src.shape"
   ]
  },
  {
   "cell_type": "markdown",
   "metadata": {},
   "source": [
    "Der Datensatz hat 3 Bänder"
   ]
  },
  {
   "cell_type": "code",
   "execution_count": 55,
   "metadata": {
    "collapsed": false
   },
   "outputs": [
    {
     "data": {
      "text/plain": [
       "3"
      ]
     },
     "execution_count": 55,
     "metadata": {},
     "output_type": "execute_result"
    }
   ],
   "source": [
    "src.count"
   ]
  },
  {
   "cell_type": "markdown",
   "metadata": {},
   "source": [
    "Alle 3 Bänder beinhalten 8-bit unsigned integers."
   ]
  },
  {
   "cell_type": "code",
   "execution_count": 56,
   "metadata": {
    "collapsed": false
   },
   "outputs": [
    {
     "data": {
      "text/plain": [
       "('uint8', 'uint8', 'uint8')"
      ]
     },
     "execution_count": 56,
     "metadata": {},
     "output_type": "execute_result"
    }
   ],
   "source": [
    "src.dtypes"
   ]
  },
  {
   "cell_type": "code",
   "execution_count": null,
   "metadata": {
    "collapsed": false
   },
   "outputs": [
    {
     "data": {
      "text/plain": [
       "array([[[0, 0, 0, ..., 0, 0, 0],\n",
       "        [0, 0, 0, ..., 0, 0, 0],\n",
       "        [0, 0, 0, ..., 0, 0, 0],\n",
       "        ..., \n",
       "        [0, 0, 0, ..., 0, 0, 0],\n",
       "        [0, 0, 0, ..., 0, 0, 0],\n",
       "        [0, 0, 0, ..., 0, 0, 0]],\n",
       "\n",
       "       [[0, 0, 0, ..., 0, 0, 0],\n",
       "        [0, 0, 0, ..., 0, 0, 0],\n",
       "        [0, 0, 0, ..., 0, 0, 0],\n",
       "        ..., \n",
       "        [0, 0, 0, ..., 0, 0, 0],\n",
       "        [0, 0, 0, ..., 0, 0, 0],\n",
       "        [0, 0, 0, ..., 0, 0, 0]],\n",
       "\n",
       "       [[0, 0, 0, ..., 0, 0, 0],\n",
       "        [0, 0, 0, ..., 0, 0, 0],\n",
       "        [0, 0, 0, ..., 0, 0, 0],\n",
       "        ..., \n",
       "        [0, 0, 0, ..., 0, 0, 0],\n",
       "        [0, 0, 0, ..., 0, 0, 0],\n",
       "        [0, 0, 0, ..., 0, 0, 0]]], dtype=uint8)"
      ]
     },
     "execution_count": 57,
     "metadata": {},
     "output_type": "execute_result"
    }
   ],
   "source": [
    "import numpy as np\n",
    "\n",
    "dest = np.empty((src.count,) + src.shape, dtype='uint8')\n",
    "dest"
   ]
  },
  {
   "cell_type": "markdown",
   "metadata": {
    "deletable": true,
    "editable": true
   },
   "source": [
    "## Extracting shapes of raster features\n"
   ]
  },
  {
   "cell_type": "code",
   "execution_count": null,
   "metadata": {
    "collapsed": false,
    "deletable": true,
    "editable": true
   },
   "outputs": [],
   "source": [
    "import pprint\n",
    "import rasterio\n",
    "from rasterio import features\n",
    "\n",
    "with rasterio.open('/tmp/bsh/Meereis/SatTiffs/ek_edit160106_Sentinel2_vom06012016.tif') as src:\n",
    "    blue = src.read(3)\n",
    "\n",
    "mask = blue != 255\n",
    "shapes = features.shapes(blue, mask=mask)\n",
    "pprint.pprint(next(shapes))"
   ]
  },
  {
   "cell_type": "code",
   "execution_count": null,
   "metadata": {
    "collapsed": false,
    "deletable": true,
    "editable": true
   },
   "outputs": [],
   "source": []
  },
  {
   "cell_type": "code",
   "execution_count": null,
   "metadata": {
    "collapsed": true,
    "deletable": true,
    "editable": true
   },
   "outputs": [],
   "source": []
  }
 ],
 "metadata": {
  "kernelspec": {
   "display_name": "Python 3",
   "language": "python",
   "name": "python3"
  },
  "language_info": {
   "codemirror_mode": {
    "name": "ipython",
    "version": 3
   },
   "file_extension": ".py",
   "mimetype": "text/x-python",
   "name": "python",
   "nbconvert_exporter": "python",
   "pygments_lexer": "ipython3",
   "version": "3.5.3"
  }
 },
 "nbformat": 4,
 "nbformat_minor": 2
}
