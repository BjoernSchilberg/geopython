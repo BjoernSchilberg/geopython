{
 "cells": [
  {
   "cell_type": "markdown",
   "metadata": {},
   "source": [
    "# Arbeiten mit dem Network Common Data Format (NetCDF) Dateiformat"
   ]
  },
  {
   "cell_type": "code",
   "execution_count": 126,
   "metadata": {
    "collapsed": false,
    "deletable": true,
    "editable": true
   },
   "outputs": [],
   "source": [
    "import netCDF4\n",
    "import numpy as np"
   ]
  },
  {
   "cell_type": "markdown",
   "metadata": {
    "deletable": true,
    "editable": true
   },
   "source": [
    "# Erstellen eines netCDF4.Dataset Objektes"
   ]
  },
  {
   "cell_type": "markdown",
   "metadata": {
    "deletable": true,
    "editable": true
   },
   "source": [
    "- f ist das Dataset Objekt, welches die geöffnete netCDF Datei repräsentiert\n",
    "- Mit ```print``` können zusammengefasste Informationen ausgeben werden, ähnlich zu dem Befehl ```ncdump -h``` aus [ndetcdf](http://www.unidata.ucar.edu/software/netcdf/)"
   ]
  },
  {
   "cell_type": "code",
   "execution_count": 127,
   "metadata": {
    "collapsed": false,
    "deletable": true,
    "editable": true
   },
   "outputs": [
    {
     "name": "stdout",
     "output_type": "stream",
     "text": [
      "<class 'netCDF4._netCDF4.Dataset'>\n",
      "root group (NETCDF4_CLASSIC data model, file format HDF5):\n",
      "    CDI: Climate Data Interface version 1.6.0 (http://code.zmaw.de/projects/cdi)\n",
      "    history: Tue Mar 07 06:00:33 2017: cdo select,name=adjusted_sea_surface_temperature,satellite_zenith_angle,solar_zenith_angle 20170306000000-OSISAF-L3C_GHRSST-SSTsubskin-AVHRR_SST_METOP_B-EUR-adjusted-MYO-002x002_0024-v02-fv01.nc temp.nc\n",
      "CMEMS processor XXX.YY;20170305121903-OSISAF-L2P_GHRSST-SSTsubskin-AVHRR_SST_METOP_B-sstmgr_metop01_20170305_121903-v02.0-fv01.0.nc;20170305122803-OSISAF-L2P_GHRSST-SSTsubskin-AVHRR_SST_METOP_B-sstmgr_metop01_20170305_122803-v02.0-fv01.0.nc;20170305123103-OSISAF-L2P_GHRSST-SSTsubskin-AVHRR_SST_METOP_B-sstmgr_metop01_20170305_123103-v02.0-fv01.0.nc;20170305122203-OSISAF-L2P_GHRSST-SSTsubskin-AVHRR_SST_METOP_B-sstmgr_metop01_20170305_122203-v02.0-fv01.0.nc;20170305122503-OSISAF-L2P_GHRSST-SSTsubskin-AVHRR_SST_METOP_B-sstmgr_metop01_20170305_122503-v02.0-fv01.0.nc;20170305140103-OSISAF-L2P_GHRSST-SSTsubskin-AVHRR_SST_METOP_B-sstmgr_metop01_20170305_140103-v02.0-fv01.0.nc;20170305135803-OSISAF-L2P_GHRSST-SSTsubskin-AVHRR_SST_METOP_B-sstmgr_metop01_20170305_135803-v02.0-fv01.0.nc;20170305140403-OSISAF-L2P_GHRSST-SSTsubskin-AVHRR_SST_METOP_B-sstmgr_metop01_20170305_140403-v02.0-fv01.0.nc;20170305140703-OSISAF-L2P_GHRSST-SSTsubskin-AVHRR_SST_METOP_B-sstmgr_metop01_20170305_140703-v02.0-fv01.0.nc;20170305141003-OSISAF-L2P_GHRSST-SSTsubskin-AVHRR_SST_METOP_B-sstmgr_metop01_20170305_141003-v02.0-fv01.0.nc;20170305154003-OSISAF-L2P_GHRSST-SSTsubskin-AVHRR_SST_METOP_B-sstmgr_metop01_20170305_154003-v02.0-fv01.0.nc;20170305153703-OSISAF-L2P_GHRSST-SSTsubskin-AVHRR_SST_METOP_B-sstmgr_metop01_20170305_153703-v02.0-fv01.0.nc;20170305171003-OSISAF-L2P_GHRSST-SSTsubskin-AVHRR_SST_METOP_B-sstmgr_metop01_20170305_171003-v02.0-fv01.0.nc;20170305171303-OSISAF-L2P_GHRSST-SSTsubskin-AVHRR_SST_METOP_B-sstmgr_metop01_20170305_171303-v02.0-fv01.0.nc;20170305170703-OSISAF-L2P_GHRSST-SSTsubskin-AVHRR_SST_METOP_B-sstmgr_metop01_20170305_170703-v02.0-fv01.0.nc;20170305170403-OSISAF-L2P_GHRSST-SSTsubskin-AVHRR_SST_METOP_B-sstmgr_metop01_20170305_170403-v02.0-fv01.0.nc;20170305171603-OSISAF-L2P_GHRSST-SSTsubskin-AVHRR_SST_METOP_B-sstmgr_metop01_20170305_171603-v02.0-fv01.0.nc;20170305172203-OSISAF-L2P_GHRSST-SSTsubskin-AVHRR_SST_METOP_B-sstmgr_metop01_20170305_172203-v02.0-fv01.0.nc;20170305171903-OSISAF-L2P_GHRSST-SSTsubskin-AVHRR_SST_METOP_B-sstmgr_metop01_20170305_171903-v02.0-fv01.0.nc;20170305185203-OSISAF-L2P_GHRSST-SSTsubskin-AVHRR_SST_METOP_B-sstmgr_metop01_20170305_185203-v02.0-fv01.0.nc;20170305184603-OSISAF-L2P_GHRSST-SSTsubskin-AVHRR_SST_METOP_B-sstmgr_metop01_20170305_184603-v02.0-fv01.0.nc;20170305184903-OSISAF-L2P_GHRSST-SSTsubskin-AVHRR_SST_METOP_B-sstmgr_metop01_20170305_184903-v02.0-fv01.0.nc;20170305185503-OSISAF-L2P_GHRSST-SSTsubskin-AVHRR_SST_METOP_B-sstmgr_metop01_20170305_185503-v02.0-fv01.0.nc;20170305190103-OSISAF-L2P_GHRSST-SSTsubskin-AVHRR_SST_METOP_B-sstmgr_metop01_20170305_190103-v02.0-fv01.0.nc;20170305185803-OSISAF-L2P_GHRSST-SSTsubskin-AVHRR_SST_METOP_B-sstmgr_metop01_20170305_185803-v02.0-fv01.0.nc;20170305202803-OSISAF-L2P_GHRSST-SSTsubskin-AVHRR_SST_METOP_B-sstmgr_metop01_20170305_202803-v02.0-fv01.0.nc;20170305203103-OSISAF-L2P_GHRSST-SSTsubskin-AVHRR_SST_METOP_B-sstmgr_metop01_20170305_203103-v02.0-fv01.0.nc;20170305203403-OSISAF-L2P_GHRSST-SSTsubskin-AVHRR_SST_METOP_B-sstmgr_metop01_20170305_203403-v02.0-fv01.0.nc;20170305203703-OSISAF-L2P_GHRSST-SSTsubskin-AVHRR_SST_METOP_B-sstmgr_metop01_20170305_203703-v02.0-fv01.0.nc;20170305204003-OSISAF-L2P_GHRSST-SSTsubskin-AVHRR_SST_METOP_B-sstmgr_metop01_20170305_204003-v02.0-fv01.0.nc;20170305221303-OSISAF-L2P_GHRSST-SSTsubskin-AVHRR_SST_METOP_B-sstmgr_metop01_20170305_221303-v02.0-fv01.0.nc;20170305220703-OSISAF-L2P_GHRSST-SSTsubskin-AVHRR_SST_METOP_B-sstmgr_metop01_20170305_220703-v02.0-fv01.0.nc;20170305221003-OSISAF-L2P_GHRSST-SSTsubskin-AVHRR_SST_METOP_B-sstmgr_metop01_20170305_221003-v02.0-fv01.0.nc;20170305221903-OSISAF-L2P_GHRSST-SSTsubskin-AVHRR_SST_METOP_B-sstmgr_metop01_20170305_221903-v02.0-fv01.0.nc;20170305221603-OSISAF-L2P_GHRSST-SSTsubskin-AVHRR_SST_METOP_B-sstmgr_metop01_20170305_221603-v02.0-fv01.0.nc;20170305222203-OSISAF-L2P_GHRSST-SSTsubskin-AVHRR_SST_METOP_B-sstmgr_metop01_20170305_222203-v02.0-fv01.0.nc;20170305234903-OSISAF-L2P_GHRSST-SSTsubskin-AVHRR_SST_METOP_B-sstmgr_metop01_20170305_234903-v02.0-fv01.0.nc;20170305235203-OSISAF-L2P_GHRSST-SSTsubskin-AVHRR_SST_METOP_B-sstmgr_metop01_20170305_235203-v02.0-fv01.0.nc;20170305235803-OSISAF-L2P_GHRSST-SSTsubskin-AVHRR_SST_METOP_B-sstmgr_metop01_20170305_235803-v02.0-fv01.0.nc;20170305235503-OSISAF-L2P_GHRSST-SSTsubskin-AVHRR_SST_METOP_B-sstmgr_metop01_20170305_235503-v02.0-fv01.0.nc;20170306000103-OSISAF-L2P_GHRSST-SSTsubskin-AVHRR_SST_METOP_B-sstmgr_metop01_20170306_000103-v02.0-fv01.0.nc;20170306070103-OSISAF-L2P_GHRSST-SSTsubskin-AVHRR_SST_METOP_B-sstmgr_metop01_20170306_070103-v02.0-fv01.0.nc;20170306065803-OSISAF-L2P_GHRSST-SSTsubskin-AVHRR_SST_METOP_B-sstmgr_metop01_20170306_065803-v02.0-fv01.0.nc;20170306070403-OSISAF-L2P_GHRSST-SSTsubskin-AVHRR_SST_METOP_B-sstmgr_metop01_20170306_070403-v02.0-fv01.0.nc;20170306084603-OSISAF-L2P_GHRSST-SSTsubskin-AVHRR_SST_METOP_B-sstmgr_metop01_20170306_084603-v02.0-fv01.0.nc;20170306084003-OSISAF-L2P_GHRSST-SSTsubskin-AVHRR_SST_METOP_B-sstmgr_metop01_20170306_084003-v02.0-fv01.0.nc;20170306084303-OSISAF-L2P_GHRSST-SSTsubskin-AVHRR_SST_METOP_B-sstmgr_metop01_20170306_084303-v02.0-fv01.0.nc;20170306101903-OSISAF-L2P_GHRSST-SSTsubskin-AVHRR_SST_METOP_B-sstmgr_metop01_20170306_101903-v02.0-fv01.0.nc;20170306102203-OSISAF-L2P_GHRSST-SSTsubskin-AVHRR_SST_METOP_B-sstmgr_metop01_20170306_102203-v02.0-fv01.0.nc;20170306102803-OSISAF-L2P_GHRSST-SSTsubskin-AVHRR_SST_METOP_B-sstmgr_metop01_20170306_102803-v02.0-fv01.0.nc;20170306102503-OSISAF-L2P_GHRSST-SSTsubskin-AVHRR_SST_METOP_B-sstmgr_metop01_20170306_102503-v02.0-fv01.0.nc;20170306115803-OSISAF-L2P_GHRSST-SSTsubskin-AVHRR_SST_METOP_B-sstmgr_metop01_20170306_115803-v02.0-fv01.0.nc\n",
      "    source: AVHRR\n",
      "    institution: CMEMS\n",
      "    Conventions: CF-1.4\n",
      "    title: Euro SST, L3C, AVHRR_SST_METOP_B, 0.02deg daily, Meteo-France\n",
      "    product_version: 1.0\n",
      "    platform: METOP_B\n",
      "    sensor: AVHRR\n",
      "    summary: A merged, mono-sensor L3C subskin SST product from CMEMS\n",
      "    processing_level: L3C\n",
      "    id: AVHRR_SST_METOP_B-OSITAC-L3C-CMEMS_EUR_daily-v1.0\n",
      "    product_id: SST_EUR_SST_L3C_NRT_OBSERVATIONS_010_009_b\n",
      "    references: http://marine.copernicus.eu\n",
      "    license: These data are available free of charge under the GMES data policy.\n",
      "    naming_authority: org.ghrsst\n",
      "    gds_version_id: 2.0\n",
      "    netcdf_version_id: 4.1\n",
      "    date_created: 20170306T000000Z\n",
      "    metadata_conventions: Unidata Oservation Dataset v1.0\n",
      "    metadata_link: http://data.nodc.noaa.gov/waf/FGDC-GHRSST_all- CMSscolated2km-MYO-L3S-EURSEAS_AdjustedSST -v1.html\n",
      "    keywords: Oceans > Ocean Temperature > Sea Surface Temperature\n",
      "    keywords_vocabulary: NASA Global Change Master Directory (GCMD) Science Keywords\n",
      "    standard_name_vocabulary: NetCDF Climate and Forecast (CF) Metadata Convention\n",
      "    westernmost_longitude: -40.000\n",
      "    easternmost_longitude: 55.000\n",
      "    southernmost_latitude: 20.000\n",
      "    northernmost_latitude: 70.000\n",
      "    spatial_resolution: 0.020 degree\n",
      "    geospatial_lat_units: degrees north\n",
      "    geospatial_lat_resolution: 0.020 degree\n",
      "    geospatial_lon_units: degrees east\n",
      "    geospatial_lon_resolution: 0.020 degree\n",
      "    acknowledgment: Please acknowledge the use of these data with the following statement: These data were provided by GHRSST and the CMEMS Regional Data Assembly Centre\n",
      "    creator_name: CMEMS\n",
      "    creator_email: Francoise.Orain@meteo.fr\n",
      "    creator_url: http://marine.copernicus.eu\n",
      "    project: Group for High Resolution SST\n",
      "    publisher_name: GHRSST Project Office\n",
      "    publisher_url: http://www.ghrsst.org\n",
      "    publisher_email: ghrsst-po@nceo.ac.uk\n",
      "    cdm_data_type: grid\n",
      "    time_stamp: 2017030600-24\n",
      "    start_time: 20170305T122058Z\n",
      "    stop_time: 20170306T115958Z\n",
      "    time_coverage_start: 20170305T122058Z\n",
      "    time_coverage_end: 20170306T115958Z\n",
      "    uuid: 61122f8e-6dcb-48ef-8b9a-af1e7ffe35f2\n",
      "    CDO: Climate Data Operators version 1.6.0 (http://code.zmaw.de/projects/cdo)\n",
      "    dimensions(sizes): lon(4750), lat(2500), time(1)\n",
      "    variables(dimensions): >f4 \u001b[4mlon\u001b[0m(lon), >f4 \u001b[4mlat\u001b[0m(lat), >f8 \u001b[4mtime\u001b[0m(time), int8 \u001b[4msatellite_zenith_angle\u001b[0m(time,lat,lon), int8 \u001b[4msolar_zenith_angle\u001b[0m(time,lat,lon), >i2 \u001b[4madjusted_sea_surface_temperature\u001b[0m(time,lat,lon)\n",
      "    groups: \n",
      "\n"
     ]
    }
   ],
   "source": [
    "f = netCDF4.Dataset('20170306000000-OSISAF-L3C_GHRSST-SSTsubskin-AVHRR_SST_METOP_B-EUR-adjusted-MYO-002x002_0024-v02-fv01.nc')\n",
    "print(f)"
   ]
  },
  {
   "cell_type": "markdown",
   "metadata": {
    "deletable": true,
    "editable": true
   },
   "source": [
    "# Die Variabel des NetCDF "
   ]
  },
  {
   "cell_type": "code",
   "execution_count": 128,
   "metadata": {
    "collapsed": false,
    "deletable": true,
    "editable": true
   },
   "outputs": [
    {
     "name": "stdout",
     "output_type": "stream",
     "text": [
      "odict_keys(['lon', 'lat', 'time', 'satellite_zenith_angle', 'solar_zenith_angle', 'adjusted_sea_surface_temperature'])\n"
     ]
    }
   ],
   "source": [
    "print(f.variables.keys()) # get all variable names\n"
   ]
  },
  {
   "cell_type": "code",
   "execution_count": 129,
   "metadata": {
    "collapsed": false,
    "deletable": true,
    "editable": true
   },
   "outputs": [
    {
     "name": "stdout",
     "output_type": "stream",
     "text": [
      "<class 'netCDF4._netCDF4.Variable'>\n",
      ">i2 adjusted_sea_surface_temperature(time, lat, lon)\n",
      "    standard_name: sea_surface_subskin_temperature\n",
      "    long_name: adjusted sea surface temperature\n",
      "    units: kelvin\n",
      "    add_offset: 273.15\n",
      "    scale_factor: 0.01\n",
      "    _FillValue: -32768\n",
      "    comment: priorities: exemple : ATS_NR_2P, AVHHRMTA, NAR17_SST, NAR18_SST, AVHRR17_L, AVHRR18_L, AVHRR17_G, AVHRR18_G, SEVIRI_1H_SST, GOES_12_1H_SST, AMSRE, TMI, MODIS_A, MODIS_T\n",
      "unlimited dimensions: time\n",
      "current shape = (1, 2500, 4750)\n",
      "filling on\n"
     ]
    }
   ],
   "source": [
    "temp = f.variables['adjusted_sea_surface_temperature']  # temperature variable\n",
    "print(temp)"
   ]
  },
  {
   "cell_type": "markdown",
   "metadata": {
    "deletable": true,
    "editable": true
   },
   "source": [
    "# Dimensionen auflisten"
   ]
  },
  {
   "cell_type": "code",
   "execution_count": 130,
   "metadata": {
    "collapsed": false,
    "deletable": true,
    "editable": true
   },
   "outputs": [
    {
     "name": "stdout",
     "output_type": "stream",
     "text": [
      "('lon', <class 'netCDF4._netCDF4.Dimension'>: name = 'lon', size = 4750\n",
      ")\n",
      "('lat', <class 'netCDF4._netCDF4.Dimension'>: name = 'lat', size = 2500\n",
      ")\n",
      "('time', <class 'netCDF4._netCDF4.Dimension'> (unlimited): name = 'time', size = 1\n",
      ")\n"
     ]
    }
   ],
   "source": [
    "for d in f.dimensions.items():\n",
    "    print(d)"
   ]
  },
  {
   "cell_type": "code",
   "execution_count": 131,
   "metadata": {
    "collapsed": false,
    "deletable": true,
    "editable": true
   },
   "outputs": [
    {
     "data": {
      "text/plain": [
       "('time', 'lat', 'lon')"
      ]
     },
     "execution_count": 131,
     "metadata": {},
     "output_type": "execute_result"
    }
   ],
   "source": [
    "temp.dimensions"
   ]
  },
  {
   "cell_type": "code",
   "execution_count": 132,
   "metadata": {
    "collapsed": false,
    "deletable": true,
    "editable": true
   },
   "outputs": [
    {
     "data": {
      "text/plain": [
       "(1, 2500, 4750)"
      ]
     },
     "execution_count": 132,
     "metadata": {},
     "output_type": "execute_result"
    }
   ],
   "source": [
    "temp.shape"
   ]
  },
  {
   "cell_type": "code",
   "execution_count": 133,
   "metadata": {
    "collapsed": false,
    "deletable": true,
    "editable": true
   },
   "outputs": [
    {
     "name": "stdout",
     "output_type": "stream",
     "text": [
      "<class 'netCDF4._netCDF4.Variable'>\n",
      ">f8 time(time)\n",
      "    standard_name: time\n",
      "    long_name: reference time of sst file\n",
      "    units: seconds since 1981-01-01 00:00:00\n",
      "    calendar: standard\n",
      "unlimited dimensions: time\n",
      "current shape = (1,)\n",
      "filling on, default _FillValue of 9.969209968386869e+36 used\n",
      "\n",
      "<class 'netCDF4._netCDF4.Variable'>\n",
      ">f4 lat(lat)\n",
      "    standard_name: latitude\n",
      "    long_name: latitude\n",
      "    units: degrees_north\n",
      "    axis: Y\n",
      "unlimited dimensions: \n",
      "current shape = (2500,)\n",
      "filling on, default _FillValue of 9.969209968386869e+36 used\n",
      "\n",
      "<class 'netCDF4._netCDF4.Variable'>\n",
      ">f4 lon(lon)\n",
      "    standard_name: longitude\n",
      "    long_name: longitude\n",
      "    units: degrees_east\n",
      "    axis: X\n",
      "unlimited dimensions: \n",
      "current shape = (4750,)\n",
      "filling on, default _FillValue of 9.969209968386869e+36 used\n",
      "\n"
     ]
    }
   ],
   "source": [
    "mt = f.variables['time']\n",
    "lat,lon = f.variables['lat'], f.variables['lon']\n",
    "print(mt)\n",
    "print(lat)\n",
    "print(lon)"
   ]
  },
  {
   "cell_type": "code",
   "execution_count": 134,
   "metadata": {
    "collapsed": false,
    "deletable": true,
    "editable": true
   },
   "outputs": [
    {
     "name": "stdout",
     "output_type": "stream",
     "text": [
      "[  1.14160320e+09]\n"
     ]
    }
   ],
   "source": [
    "time = mt[:]  # Reads the netCDF variable MT, array of one element\n",
    "print(time)"
   ]
  },
  {
   "cell_type": "code",
   "execution_count": 135,
   "metadata": {
    "collapsed": false,
    "deletable": true,
    "editable": true
   },
   "outputs": [
    {
     "name": "stdout",
     "output_type": "stream",
     "text": [
      "shape of temp variable: (1, 2500, 4750)\n"
     ]
    }
   ],
   "source": [
    "print('shape of temp variable: %s' % repr(temp.shape))\n"
   ]
  },
  {
   "cell_type": "code",
   "execution_count": 136,
   "metadata": {
    "collapsed": false,
    "deletable": true,
    "editable": true
   },
   "outputs": [
    {
     "name": "stdout",
     "output_type": "stream",
     "text": [
      "[ 20.01000023  20.03000069  20.04999924 ...,  69.94999695  69.97000122\n",
      "  69.98999786]\n"
     ]
    }
   ],
   "source": [
    "print(lat[:])"
   ]
  },
  {
   "cell_type": "code",
   "execution_count": 137,
   "metadata": {
    "collapsed": false,
    "deletable": true,
    "editable": true
   },
   "outputs": [
    {
     "name": "stdout",
     "output_type": "stream",
     "text": [
      "[[[297.1499938964844 297.17999267578125 297.05999755859375 ..., -- -- --]\n",
      "  [297.1499938964844 297.1600036621094 297.2099914550781 ..., -- -- --]\n",
      "  [297.03997802734375 297.2099914550781 297.1499938964844 ..., -- -- --]\n",
      "  ..., \n",
      "  [-- -- -- ..., -- -- --]\n",
      "  [-- -- -- ..., -- -- --]\n",
      "  [-- -- -- ..., -- -- --]]]\n"
     ]
    }
   ],
   "source": [
    "print(temp[:])"
   ]
  },
  {
   "cell_type": "code",
   "execution_count": 138,
   "metadata": {
    "collapsed": false,
    "deletable": true,
    "editable": true
   },
   "outputs": [
    {
     "data": {
      "text/plain": [
       "'kelvin'"
      ]
     },
     "execution_count": 138,
     "metadata": {},
     "output_type": "execute_result"
    }
   ],
   "source": [
    "temp.units"
   ]
  },
  {
   "cell_type": "markdown",
   "metadata": {
    "deletable": true,
    "editable": true
   },
   "source": [
    "# Plotten des NetCDF\n",
    "Zur Vorbereitung der Visualisierung des NetCDF in matplotlib wird [xarray](http://xarray.pydata.org/) verwendet."
   ]
  },
  {
   "cell_type": "code",
   "execution_count": 139,
   "metadata": {
    "collapsed": true,
    "deletable": true,
    "editable": true
   },
   "outputs": [],
   "source": [
    "import xarray as xr\n",
    "ds = xr.open_dataset('20170306000000-OSISAF-L3C_GHRSST-SSTsubskin-AVHRR_SST_METOP_B-EUR-adjusted-MYO-002x002_0024-v02-fv01.nc')"
   ]
  },
  {
   "cell_type": "markdown",
   "metadata": {
    "deletable": true,
    "editable": true
   },
   "source": [
    "## Dataset Properties"
   ]
  },
  {
   "cell_type": "code",
   "execution_count": 140,
   "metadata": {
    "collapsed": false,
    "deletable": true,
    "editable": true,
    "scrolled": true
   },
   "outputs": [
    {
     "data": {
      "text/plain": [
       "<xarray.Dataset>\n",
       "Dimensions:                           (lat: 2500, lon: 4750, time: 1)\n",
       "Coordinates:\n",
       "  * lon                               (lon) float32 -39.99 -39.97 -39.95 ...\n",
       "  * lat                               (lat) float32 20.01 20.03 20.05 20.07 ...\n",
       "  * time                              (time) datetime64[ns] 2017-03-06\n",
       "Data variables:\n",
       "    satellite_zenith_angle            (time, lat, lon) float64 17.0 16.0 ...\n",
       "    solar_zenith_angle                (time, lat, lon) float64 134.0 134.0 ...\n",
       "    adjusted_sea_surface_temperature  (time, lat, lon) float64 297.1 297.2 ...\n",
       "Attributes:\n",
       "    CDI: Climate Data Interface version 1.6.0 (http://code.zmaw.de/projects/cdi)\n",
       "    history: Tue Mar 07 06:00:33 2017: cdo select,name=adjusted_sea_surface_temperature,satellite_zenith_angle,solar_zenith_angle 20170306000000-OSISAF-L3C_GHRSST-SSTsubskin-AVHRR_SST_METOP_B-EUR-adjusted-MYO-002x002_0024-v02-fv01.nc temp.nc\n",
       "CMEMS processor XXX.YY;20170305121903-OSISAF-L2P_GHRSST-SSTsubskin-AVHRR_SST_METOP_B-sstmgr_metop01_20170305_121903-v02.0-fv01.0.nc;20170305122803-OSISAF-L2P_GHRSST-SSTsubskin-AVHRR_SST_METOP_B-sstmgr_metop01_20170305_122803-v02.0-fv01.0.nc;20170305123103-OSISAF-L2P_G...\n",
       "    source: AVHRR\n",
       "    institution: CMEMS\n",
       "    Conventions: CF-1.4\n",
       "    title: Euro SST, L3C, AVHRR_SST_METOP_B, 0.02deg daily, Meteo-France\n",
       "    product_version: 1.0\n",
       "    platform: METOP_B\n",
       "    sensor: AVHRR\n",
       "    summary: A merged, mono-sensor L3C subskin SST product from CMEMS\n",
       "    processing_level: L3C\n",
       "    id: AVHRR_SST_METOP_B-OSITAC-L3C-CMEMS_EUR_daily-v1.0\n",
       "    product_id: SST_EUR_SST_L3C_NRT_OBSERVATIONS_010_009_b\n",
       "    references: http://marine.copernicus.eu\n",
       "    license: These data are available free of charge under the GMES data policy.\n",
       "    naming_authority: org.ghrsst\n",
       "    gds_version_id: 2.0\n",
       "    netcdf_version_id: 4.1\n",
       "    date_created: 20170306T000000Z\n",
       "    metadata_conventions: Unidata Oservation Dataset v1.0\n",
       "    metadata_link: http://data.nodc.noaa.gov/waf/FGDC-GHRSST_all- CMSscolated2km-MYO-L3S-EURSEAS_AdjustedSST -v1.html\n",
       "    keywords: Oceans > Ocean Temperature > Sea Surface Temperature\n",
       "    keywords_vocabulary: NASA Global Change Master Directory (GCMD) Science Keywords\n",
       "    standard_name_vocabulary: NetCDF Climate and Forecast (CF) Metadata Convention\n",
       "    westernmost_longitude: -40.000\n",
       "    easternmost_longitude: 55.000\n",
       "    southernmost_latitude: 20.000\n",
       "    northernmost_latitude: 70.000\n",
       "    spatial_resolution: 0.020 degree\n",
       "    geospatial_lat_units: degrees north\n",
       "    geospatial_lat_resolution: 0.020 degree\n",
       "    geospatial_lon_units: degrees east\n",
       "    geospatial_lon_resolution: 0.020 degree\n",
       "    acknowledgment: Please acknowledge the use of these data with the following statement: These data were provided by GHRSST and the CMEMS Regional Data Assembly Centre\n",
       "    creator_name: CMEMS\n",
       "    creator_email: Francoise.Orain@meteo.fr\n",
       "    creator_url: http://marine.copernicus.eu\n",
       "    project: Group for High Resolution SST\n",
       "    publisher_name: GHRSST Project Office\n",
       "    publisher_url: http://www.ghrsst.org\n",
       "    publisher_email: ghrsst-po@nceo.ac.uk\n",
       "    cdm_data_type: grid\n",
       "    time_stamp: 2017030600-24\n",
       "    start_time: 20170305T122058Z\n",
       "    stop_time: 20170306T115958Z\n",
       "    time_coverage_start: 20170305T122058Z\n",
       "    time_coverage_end: 20170306T115958Z\n",
       "    uuid: 61122f8e-6dcb-48ef-8b9a-af1e7ffe35f2\n",
       "    CDO: Climate Data Operators version 1.6.0 (http://code.zmaw.de/projects/cdo)"
      ]
     },
     "execution_count": 140,
     "metadata": {},
     "output_type": "execute_result"
    }
   ],
   "source": [
    "ds"
   ]
  },
  {
   "cell_type": "code",
   "execution_count": 141,
   "metadata": {
    "collapsed": false,
    "deletable": true,
    "editable": true
   },
   "outputs": [
    {
     "data": {
      "text/plain": [
       "<xarray.DataArray 'adjusted_sea_surface_temperature' ()>\n",
       "array(297.1499933600426)\n",
       "Coordinates:\n",
       "    lon      float32 -39.99\n",
       "    lat      float32 20.01\n",
       "    time     datetime64[ns] 2017-03-06\n",
       "Attributes:\n",
       "    standard_name: sea_surface_subskin_temperature\n",
       "    long_name: adjusted sea surface temperature\n",
       "    units: kelvin\n",
       "    comment: priorities: exemple : ATS_NR_2P, AVHHRMTA, NAR17_SST, NAR18_SST, AVHRR17_L, AVHRR18_L, AVHRR17_G, AVHRR18_G, SEVIRI_1H_SST, GOES_12_1H_SST, AMSRE, TMI, MODIS_A, MODIS_T"
      ]
     },
     "execution_count": 141,
     "metadata": {},
     "output_type": "execute_result"
    }
   ],
   "source": [
    "ds['adjusted_sea_surface_temperature'][0, 0, 0]"
   ]
  },
  {
   "cell_type": "code",
   "execution_count": 142,
   "metadata": {
    "collapsed": false,
    "deletable": true,
    "editable": true
   },
   "outputs": [],
   "source": [
    "map_data = ds['adjusted_sea_surface_temperature'].sel(time='2017-03-06T00:00:00')"
   ]
  },
  {
   "cell_type": "code",
   "execution_count": 143,
   "metadata": {
    "collapsed": false,
    "deletable": true,
    "editable": true
   },
   "outputs": [
    {
     "data": {
      "image/png": "[encoded data removed]",
      "text/plain": [
       "<matplotlib.figure.Figure at 0x7f35debea438>"
      ]
     },
     "metadata": {},
     "output_type": "display_data"
    }
   ],
   "source": [
    "import matplotlib.pyplot as plt\n",
    "\n",
    "map_data.plot()\n",
    "plt.title('Sea surface temperature data')\n",
    "plt.ylabel('latitude')\n",
    "plt.xlabel('longitude')\n",
    "plt.show()"
   ]
  },
  {
   "cell_type": "code",
   "execution_count": null,
   "metadata": {
    "collapsed": true,
    "deletable": true,
    "editable": true
   },
   "outputs": [],
   "source": []
  }
 ],
 "metadata": {
  "kernelspec": {
   "display_name": "Python 3",
   "language": "python",
   "name": "python3"
  },
  "language_info": {
   "codemirror_mode": {
    "name": "ipython",
    "version": 3
   },
   "file_extension": ".py",
   "mimetype": "text/x-python",
   "name": "python",
   "nbconvert_exporter": "python",
   "pygments_lexer": "ipython3",
   "version": "3.5.3"
  }
 },
 "nbformat": 4,
 "nbformat_minor": 2
}
