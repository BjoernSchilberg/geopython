{
 "cells": [
  {
   "cell_type": "markdown",
   "metadata": {
    "deletable": true,
    "editable": true
   },
   "source": [
    "# Koordinatentransformation mittels pyproj\n",
    "\n",
    "[pyproj](https://github.com/jswhit/pyproj) ist eine Bibliothek für wechselseitige Transformation von Kartographischen Daten nach/von kartesischen Daten. Hierfür wird eine umfangreiche Zahl von Projektionen angeboten. pyproj basiert auf [proj.4](http://proj4.org/)."
   ]
  },
  {
   "cell_type": "markdown",
   "metadata": {
    "deletable": true,
    "editable": true
   },
   "source": [
    "Das folgende Beispiel zeigt eine Transformation von [DHDN / 3-degree Gauss-Kruger zone 3 (EPSG:31467)](http://epsg.io/31467) nach [WGS 84 -- WGS84 - World Geodetic System 1984, used in GPS (EPSG:4326)](http://epsg.io/4326) und umgekehrt."
   ]
  },
  {
   "cell_type": "code",
   "execution_count": 1,
   "metadata": {
    "collapsed": false,
    "deletable": true,
    "editable": true
   },
   "outputs": [
    {
     "data": {
      "text/plain": [
       "(53.945679412313304, 12.176684911054153)"
      ]
     },
     "execution_count": 1,
     "metadata": {},
     "output_type": "execute_result"
    }
   ],
   "source": [
    "import pyproj\n",
    "#Gauß-Krüger-Koordinatensystem\n",
    "epsg31467 = pyproj.Proj(\"+init=epsg:31467\")\n",
    "# WGS84\n",
    "wgs84 = pyproj.Proj(\"+init=epsg:4326\")\n",
    "epsg31467(8940061.95690865, 1876587.547388445, inverse=True)"
   ]
  },
  {
   "cell_type": "markdown",
   "metadata": {
    "deletable": true,
    "editable": true
   },
   "source": [
    "Das folgende Beispiel zeigt eine Transformation von wgs84 nach epsg31467."
   ]
  },
  {
   "cell_type": "code",
   "execution_count": 2,
   "metadata": {
    "collapsed": false,
    "deletable": true,
    "editable": true
   },
   "outputs": [
    {
     "data": {
      "text/plain": [
       "(8940061.95690865, 1876587.547388445)"
      ]
     },
     "execution_count": 2,
     "metadata": {},
     "output_type": "execute_result"
    }
   ],
   "source": [
    "epsg31467(54.083333, 12.133333)"
   ]
  },
  {
   "cell_type": "code",
   "execution_count": null,
   "metadata": {
    "collapsed": true,
    "deletable": true,
    "editable": true
   },
   "outputs": [],
   "source": []
  }
 ],
 "metadata": {
  "kernelspec": {
   "display_name": "Python 3",
   "language": "python",
   "name": "python3"
  },
  "language_info": {
   "codemirror_mode": {
    "name": "ipython",
    "version": 3
   },
   "file_extension": ".py",
   "mimetype": "text/x-python",
   "name": "python",
   "nbconvert_exporter": "python",
   "pygments_lexer": "ipython3",
   "version": "3.6.1"
  }
 },
 "nbformat": 4,
 "nbformat_minor": 2
}
