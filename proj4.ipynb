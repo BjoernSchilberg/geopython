{
 "cells": [
  {
   "cell_type": "markdown",
   "metadata": {
    "deletable": true,
    "editable": true
   },
   "source": [
    "# Koordinatentransformation mittels pyproj\n",
    "\n",
    "[pyproj](https://github.com/jswhit/pyproj) ist eine Bibliothek für wechselseitige Transformation von Kartographischen Daten nach/von kartesischen Daten. Hierfür wird eine umfangreiche Zahl von Projektionen angeboten. pyproj basiert auf [proj.4](http://proj4.org/)."
   ]
  },
  {
   "cell_type": "markdown",
   "metadata": {
    "deletable": true,
    "editable": true
   },
   "source": [
    "Das folgende Beispiel zeigt eine Transformation von [DHDN / 3-degree Gauss-Kruger zone 3 (EPSG:31467)](http://epsg.io/31467) nach [WGS 84 -- WGS84 - World Geodetic System 1984, used in GPS (EPSG:4326)](http://epsg.io/4326) und umgekehrt."
   ]
  },
  {
   "cell_type": "code",
   "execution_count": 25,
   "metadata": {
    "collapsed": false,
    "deletable": true,
    "editable": true
   },
   "outputs": [
    {
     "name": "stdout",
     "output_type": "stream",
     "text": [
      "(53.551086, 9.99368)\n",
      "(8922814.11434073, 1538565.5165526054)\n",
      "(53.44764819200518, 10.023174438680723)\n",
      "\n",
      "[ 0.10343781  0.02949444]\n"
     ]
    }
   ],
   "source": [
    "import pyproj\n",
    "import numpy as np\n",
    "#Gauß-Krüger-Koordinatensystem\n",
    "epsg31467 = pyproj.Proj(\"+init=epsg:31467\")\n",
    "# WGS84\n",
    "wgs84 = pyproj.Proj(\"+init=epsg:4326\")\n",
    "\n",
    "hh = (53.551086, 9.99368)\n",
    "\n",
    "hh_gk3 = pyproj.transform(wgs84, epsg31467, *hh)\n",
    "hh_back = pyproj.transform(epsg31467, wgs84, *hh_gk3)\n",
    "\n",
    "print(hh)\n",
    "print(hh_gk3)\n",
    "print(hh_back)\n",
    "print()\n",
    "print(np.abs(np.array(hh) - np.array(hh_back)))\n",
    "\n"
   ]
  },
  {
   "cell_type": "markdown",
   "metadata": {
    "deletable": true,
    "editable": true
   },
   "source": [
    "Das folgende Beispiel zeigt eine Transformation von wgs84 nach epsg31467."
   ]
  },
  {
   "cell_type": "code",
   "execution_count": 2,
   "metadata": {
    "collapsed": false,
    "deletable": true,
    "editable": true
   },
   "outputs": [
    {
     "data": {
      "text/plain": [
       "(8940061.95690865, 1876587.547388445)"
      ]
     },
     "execution_count": 2,
     "metadata": {},
     "output_type": "execute_result"
    }
   ],
   "source": [
    "epsg31467(54.083333, 12.133333)"
   ]
  },
  {
   "cell_type": "code",
   "execution_count": null,
   "metadata": {
    "collapsed": true,
    "deletable": true,
    "editable": true
   },
   "outputs": [],
   "source": []
  }
 ],
 "metadata": {
  "kernelspec": {
   "display_name": "Python 3",
   "language": "python",
   "name": "python3"
  },
  "language_info": {
   "codemirror_mode": {
    "name": "ipython",
    "version": 3
   },
   "file_extension": ".py",
   "mimetype": "text/x-python",
   "name": "python",
   "nbconvert_exporter": "python",
   "pygments_lexer": "ipython3",
   "version": "3.6.0"
  }
 },
 "nbformat": 4,
 "nbformat_minor": 2
}
